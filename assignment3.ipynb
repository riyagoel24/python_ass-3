{
 "cells": [
  {
   "cell_type": "markdown",
   "metadata": {},
   "source": [
    "# *ASSIGNMENT:3*"
   ]
  },
  {
   "cell_type": "markdown",
   "metadata": {},
   "source": [
    "##### *ques:1 waf that accepts 2 positional aruements and returns x raised to power y*"
   ]
  },
  {
   "cell_type": "code",
   "execution_count": 8,
   "metadata": {},
   "outputs": [
    {
     "name": "stdout",
     "output_type": "stream",
     "text": [
      "enter number:4\n",
      "enter the power:3\n",
      "output is: 64\n"
     ]
    }
   ],
   "source": [
    "def power(x,y):\n",
    "    a=x**y\n",
    "    print(\"output is:\",a)\n",
    "b=int(input(\"enter number:\"))\n",
    "c=int(input(\"enter the power:\"))\n",
    "power(b,c)\n"
   ]
  },
  {
   "cell_type": "code",
   "execution_count": 2,
   "metadata": {},
   "outputs": [
    {
     "name": "stdout",
     "output_type": "stream",
     "text": [
      "riya\n",
      "goel\n",
      "concatenated string: riyagoel\n"
     ]
    }
   ],
   "source": [
    "#ques:2\n",
    "def conc(s1=\"hello\",s2=\"world\"):\n",
    "    return(s1+s2)\n",
    "s1=input()\n",
    "s2=input()\n",
    "print(\"concatenated string:\",conc(s1,s2))\n",
    "    "
   ]
  },
  {
   "cell_type": "code",
   "execution_count": 10,
   "metadata": {},
   "outputs": [
    {
     "name": "stdout",
     "output_type": "stream",
     "text": [
      "enter a no.:45\n",
      "odd no.\n"
     ]
    }
   ],
   "source": [
    "#ques3\n",
    "def even(n):\n",
    "    return(bool(n%2==0))\n",
    "a=int(input(\"enter a no.:\"))\n",
    "if(even(a)):\n",
    "    print(\"even no.\")\n",
    "else:\n",
    "    print(\"odd no.\")"
   ]
  },
  {
   "cell_type": "code",
   "execution_count": 11,
   "metadata": {},
   "outputs": [
    {
     "name": "stdout",
     "output_type": "stream",
     "text": [
      "enter a number:13\n",
      "prime no.\n"
     ]
    }
   ],
   "source": [
    "#ques4\n",
    "def prime(n):\n",
    "    flag=0\n",
    "    for i in range(2,n):\n",
    "        if(n%i==0):\n",
    "            flag=1\n",
    "            return(bool(flag))\n",
    "            break\n",
    "a=int(input(\"enter a number:\"))\n",
    "if(prime(a)):\n",
    "    print(\"not a prime no.\")\n",
    "else:\n",
    "    print(\"prime no.\")"
   ]
  },
  {
   "cell_type": "code",
   "execution_count": 13,
   "metadata": {},
   "outputs": [
    {
     "name": "stdout",
     "output_type": "stream",
     "text": [
      "enter the string:abbbba\n",
      "string is palindrome\n"
     ]
    }
   ],
   "source": [
    "#ques5\n",
    "def palindrome(ch):\n",
    "    ch1=ch[::-1]\n",
    "    return(bool(ch1==ch))\n",
    "a=input(\"enter the string:\")\n",
    "if(palindrome(a)):\n",
    "    print(\"string is palindrome\")\n",
    "else:\n",
    "    print(\"string is not palindrome\")"
   ]
  },
  {
   "cell_type": "code",
   "execution_count": 15,
   "metadata": {},
   "outputs": [
    {
     "name": "stdout",
     "output_type": "stream",
     "text": [
      "enter a string:my name is riya\n",
      "words in string are: 4\n"
     ]
    }
   ],
   "source": [
    "#ques6\n",
    "a=input(\"enter a string:\")\n",
    "print(\"words in string are:\",end=\" \")\n",
    "print(len(a.split()))\n",
    "\n"
   ]
  },
  {
   "cell_type": "code",
   "execution_count": 5,
   "metadata": {},
   "outputs": [
    {
     "name": "stdout",
     "output_type": "stream",
     "text": [
      "enter first no.:14\n",
      "enter second no.:45\n",
      "enter third no.:99\n",
      "largest no. is: 99\n"
     ]
    }
   ],
   "source": [
    "#ques7\n",
    "def large(a,b,c):\n",
    "    if(a>c and a>b):\n",
    "        return a\n",
    "    elif(b>c and b>a):\n",
    "        return b\n",
    "    else:\n",
    "        return c\n",
    "n=int(input(\"enter first no.:\")) \n",
    "m=int(input(\"enter second no.:\"))\n",
    "l=int(input(\"enter third no.:\"))\n",
    "print(\"largest no. is:\",large(n,m,l))"
   ]
  },
  {
   "cell_type": "code",
   "execution_count": 6,
   "metadata": {},
   "outputs": [
    {
     "name": "stdout",
     "output_type": "stream",
     "text": [
      "n1:10\n",
      "n2:4\n",
      "5\n",
      "11\n",
      "14\n",
      "17\n",
      "23\n",
      "26\n",
      "29\n",
      "35\n",
      "38\n",
      "41\n"
     ]
    }
   ],
   "source": [
    "#ques8\n",
    "def series(n1,n2):\n",
    "    count=0\n",
    "    i=1\n",
    "    while(True):\n",
    "        if(((3*i)+2)%n2==0):\n",
    "            i+=1\n",
    "            pass\n",
    "        else:\n",
    "            print((3*i)+2)\n",
    "            i+=1\n",
    "            count+=1\n",
    "        if(count==n1):\n",
    "            break\n",
    "series(int(input(\"n1:\")),int(input(\"n2:\")))            "
   ]
  },
  {
   "cell_type": "code",
   "execution_count": 9,
   "metadata": {},
   "outputs": [
    {
     "name": "stdout",
     "output_type": "stream",
     "text": [
      "enter a no.:456789\n",
      "reversed no. is: 987654\n"
     ]
    }
   ],
   "source": [
    "#ques9:\n",
    "a=input(\"enter a no.:\")\n",
    "if(a.isnumeric()==True):\n",
    "    b=a[::-1]\n",
    "    b=int(b)\n",
    "    print(\"reversed no. is:\",b)\n",
    "else:\n",
    "    print(\"not a number\")"
   ]
  },
  {
   "cell_type": "code",
   "execution_count": 10,
   "metadata": {},
   "outputs": [
    {
     "name": "stdout",
     "output_type": "stream",
     "text": [
      "enter a no.:10052024\n",
      "15552524\n"
     ]
    }
   ],
   "source": [
    "#ques10:\n",
    "a=input(\"enter a no.:\")\n",
    "if(a.isnumeric()==True):\n",
    "    a=list(a)\n",
    "    count=0\n",
    "    for i in a:\n",
    "        if(i=='0'):\n",
    "            a[count]='5'\n",
    "            count+=1\n",
    "        else:\n",
    "            count+=1\n",
    "    z=\" \"\n",
    "    for i in a:\n",
    "        z+=i\n",
    "    z=int(z)\n",
    "    print(z)\n",
    "else:\n",
    "    print(\"not a no.\")"
   ]
  },
  {
   "cell_type": "code",
   "execution_count": 13,
   "metadata": {},
   "outputs": [
    {
     "name": "stdout",
     "output_type": "stream",
     "text": [
      "enter a no:8\n",
      "8 * 1 = 8\n",
      "8 * 2 = 16\n",
      "8 * 3 = 24\n",
      "8 * 4 = 32\n",
      "8 * 5 = 40\n",
      "8 * 6 = 48\n",
      "8 * 7 = 56\n",
      "8 * 8 = 64\n",
      "8 * 9 = 72\n",
      "8 * 10 = 80\n"
     ]
    }
   ],
   "source": [
    "#ques11\n",
    "n=int(input(\"enter a no:\"))\n",
    "for i in range(1,11):\n",
    "    print(n,\"*\",i,\"=\",n*i)"
   ]
  },
  {
   "cell_type": "code",
   "execution_count": null,
   "metadata": {},
   "outputs": [],
   "source": []
  }
 ],
 "metadata": {
  "kernelspec": {
   "display_name": "Python 3",
   "language": "python",
   "name": "python3"
  },
  "language_info": {
   "codemirror_mode": {
    "name": "ipython",
    "version": 3
   },
   "file_extension": ".py",
   "mimetype": "text/x-python",
   "name": "python",
   "nbconvert_exporter": "python",
   "pygments_lexer": "ipython3",
   "version": "3.7.3"
  }
 },
 "nbformat": 4,
 "nbformat_minor": 2
}
